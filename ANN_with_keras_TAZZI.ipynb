{
 "cells": [
  {
   "cell_type": "markdown",
   "metadata": {},
   "source": [
    "# Artificial Neural Networks with Keras"
   ]
  },
  {
   "cell_type": "markdown",
   "metadata": {},
   "source": [
    "<table align=\"left\">\n",
    "  <td>\n",
    "    <a target=\"_blank\" href=\"https://colab.research.google.com/github/AbdelMahm/INPT-2020/blob/master/Notebooks_DL/ANN_with_keras.ipynb\"><img src=\"https://colab.research.google.com/img/colab_favicon_256px.png\" />Run in Google Colab</a>\n",
    "  </td>\n",
    "</table>"
   ]
  },
  {
   "cell_type": "markdown",
   "metadata": {},
   "source": [
    "# Setup"
   ]
  },
  {
   "cell_type": "code",
   "execution_count": null,
   "metadata": {},
   "outputs": [],
   "source": [
    "Firstly, let's import a few common modules, ensure MatplotLib plots figures inline and prepare a function to save the figures. We also check that Python 3.5 or later is installed (although Python 2.x may work, it is deprecated so we strongly recommend you use Python 3 instead), as well as Scikit-Learn ≥0.20 and TensorFlow ≥2.0."
   ]
  },
  {
   "cell_type": "code",
   "execution_count": 1,
   "metadata": {},
   "outputs": [],
   "source": [
    "# TensorFlow ≥2.0 is required\n",
    "import tensorflow as tf\n",
    "\n",
    "# Common imports\n",
    "import numpy as np\n",
    "import os\n",
    "\n",
    "# to make this notebook's output stable across runs\n",
    "np.random.seed(42)\n",
    "\n",
    "# To plot pretty figures\n",
    "%matplotlib inline\n",
    "import matplotlib as mpl\n",
    "import matplotlib.pyplot as plt\n",
    "mpl.rc('axes', labelsize=14)\n",
    "mpl.rc('xtick', labelsize=12)\n",
    "mpl.rc('ytick', labelsize=12)\n",
    "\n",
    "# Ignore useless warnings (see SciPy issue #5998)\n",
    "import warnings\n",
    "warnings.filterwarnings(action=\"ignore\", message=\"^internal gelsd\")"
   ]
  },
  {
   "cell_type": "markdown",
   "metadata": {},
   "source": [
    "# Building an Image Classifier"
   ]
  },
  {
   "cell_type": "markdown",
   "metadata": {},
   "source": [
    "First let's import TensorFlow and Keras."
   ]
  },
  {
   "cell_type": "code",
   "execution_count": 2,
   "metadata": {
    "collapsed": true
   },
   "outputs": [],
   "source": [
    "from tensorflow import keras"
   ]
  },
  {
   "cell_type": "code",
   "execution_count": 3,
   "metadata": {},
   "outputs": [
    {
     "data": {
      "text/plain": [
       "'2.7.0'"
      ]
     },
     "execution_count": 3,
     "metadata": {},
     "output_type": "execute_result"
    }
   ],
   "source": [
    "tf.__version__"
   ]
  },
  {
   "cell_type": "markdown",
   "metadata": {},
   "source": [
    "Let's start by loading the fashion MNIST dataset. Keras has a number of functions to load popular datasets in `keras.datasets`. The dataset is already split for you between a training set and a test set, but it can be useful to split the training set further to have a validation set:"
   ]
  },
  {
   "cell_type": "code",
   "execution_count": 4,
   "metadata": {
    "collapsed": true
   },
   "outputs": [],
   "source": [
    "fashion_mnist = keras.datasets.fashion_mnist\n",
    "(X_train_full, y_train_full), (X_test, y_test) = fashion_mnist.load_data()"
   ]
  },
  {
   "cell_type": "markdown",
   "metadata": {},
   "source": [
    "The training set contains 60,000 grayscale images, each 28x28 pixels:"
   ]
  },
  {
   "cell_type": "code",
   "execution_count": 5,
   "metadata": {},
   "outputs": [
    {
     "data": {
      "text/plain": [
       "(60000, 28, 28)"
      ]
     },
     "execution_count": 5,
     "metadata": {},
     "output_type": "execute_result"
    }
   ],
   "source": [
    "X_train_full.shape"
   ]
  },
  {
   "cell_type": "markdown",
   "metadata": {},
   "source": [
    "Each pixel intensity is represented as a byte (0 to 255):"
   ]
  },
  {
   "cell_type": "code",
   "execution_count": 6,
   "metadata": {},
   "outputs": [
    {
     "data": {
      "text/plain": [
       "dtype('uint8')"
      ]
     },
     "execution_count": 6,
     "metadata": {},
     "output_type": "execute_result"
    }
   ],
   "source": [
    "X_train_full.dtype"
   ]
  },
  {
   "cell_type": "markdown",
   "metadata": {},
   "source": [
    "Let's split the full training set into a validation set and a (smaller) training set. We also scale the pixel intensities down to the 0-1 range and convert them to floats, by dividing by 255."
   ]
  },
  {
   "cell_type": "code",
   "execution_count": 7,
   "metadata": {
    "collapsed": true
   },
   "outputs": [],
   "source": [
    "X_valid, X_train = X_train_full[:5000] / 255., X_train_full[5000:] / 255.\n",
    "y_valid, y_train = y_train_full[:5000], y_train_full[5000:]\n",
    "X_test = X_test / 255."
   ]
  },
  {
   "cell_type": "markdown",
   "metadata": {},
   "source": [
    "You can plot an image using Matplotlib's `imshow()` function, with a `'binary'`\n",
    " color map:"
   ]
  },
  {
   "cell_type": "code",
   "execution_count": 8,
   "metadata": {},
   "outputs": [
    {
     "data": {
      "image/png": "[encoded data removed]",
      "text/plain": [
       "<Figure size 432x288 with 1 Axes>"
      ]
     },
     "metadata": {
      "needs_background": "light"
     },
     "output_type": "display_data"
    }
   ],
   "source": [
    "plt.imshow(X_train[0], cmap=\"binary\")\n",
    "plt.axis('off')\n",
    "plt.show()"
   ]
  },
  {
   "cell_type": "markdown",
   "metadata": {},
   "source": [
    "The labels are the class IDs (represented as uint8), from 0 to 9:"
   ]
  },
  {
   "cell_type": "code",
   "execution_count": 9,
   "metadata": {},
   "outputs": [
    {
     "data": {
      "text/plain": [
       "array([4, 0, 7, ..., 3, 0, 5], dtype=uint8)"
      ]
     },
     "execution_count": 9,
     "metadata": {},
     "output_type": "execute_result"
    }
   ],
   "source": [
    "y_train"
   ]
  },
  {
   "cell_type": "markdown",
   "metadata": {},
   "source": [
    "Here are the corresponding class names:"
   ]
  },
  {
   "cell_type": "code",
   "execution_count": 10,
   "metadata": {
    "collapsed": true
   },
   "outputs": [],
   "source": [
    "class_names = [\"T-shirt/top\", \"Trouser\", \"Pullover\", \"Dress\", \"Coat\",\n",
    "               \"Sandal\", \"Shirt\", \"Sneaker\", \"Bag\", \"Ankle boot\"]"
   ]
  },
  {
   "cell_type": "markdown",
   "metadata": {},
   "source": [
    "So the first image in the training set is a coat:"
   ]
  },
  {
   "cell_type": "code",
   "execution_count": 11,
   "metadata": {},
   "outputs": [
    {
     "data": {
      "text/plain": [
       "'Coat'"
      ]
     },
     "execution_count": 11,
     "metadata": {},
     "output_type": "execute_result"
    }
   ],
   "source": [
    "class_names[y_train[0]]"
   ]
  },
  {
   "cell_type": "markdown",
   "metadata": {},
   "source": [
    "The validation set contains 5,000 images, and the test set contains 10,000 images:"
   ]
  },
  {
   "cell_type": "code",
   "execution_count": 12,
   "metadata": {},
   "outputs": [
    {
     "data": {
      "text/plain": [
       "(5000, 28, 28)"
      ]
     },
     "execution_count": 12,
     "metadata": {},
     "output_type": "execute_result"
    }
   ],
   "source": [
    "X_valid.shape"
   ]
  },
  {
   "cell_type": "code",
   "execution_count": 13,
   "metadata": {},
   "outputs": [
    {
     "data": {
      "text/plain": [
       "(10000, 28, 28)"
      ]
     },
     "execution_count": 13,
     "metadata": {},
     "output_type": "execute_result"
    }
   ],
   "source": [
    "X_test.shape"
   ]
  },
  {
   "cell_type": "markdown",
   "metadata": {},
   "source": [
    "Let's take a look at a sample of the images in the dataset:"
   ]
  },
  {
   "cell_type": "code",
   "execution_count": 14,
   "metadata": {},
   "outputs": [
    {
     "data": {
      "image/png": "[encoded data removed]",
      "text/plain": [
       "<Figure size 864x345.6 with 40 Axes>"
      ]
     },
     "metadata": {
      "needs_background": "light"
     },
     "output_type": "display_data"
    }
   ],
   "source": [
    "n_rows = 4\n",
    "n_cols = 10\n",
    "plt.figure(figsize=(n_cols * 1.2, n_rows * 1.2))\n",
    "for row in range(n_rows):\n",
    "    for col in range(n_cols):\n",
    "        index = n_cols * row + col\n",
    "        plt.subplot(n_rows, n_cols, index + 1)\n",
    "        plt.imshow(X_train[index], cmap=\"binary\", interpolation=\"nearest\")\n",
    "        plt.axis('off')\n",
    "        plt.title(class_names[y_train[index]], fontsize=12)\n",
    "plt.subplots_adjust(wspace=0.2, hspace=0.5)\n",
    "plt.show()"
   ]
  },
  {
   "cell_type": "markdown",
   "metadata": {},
   "source": [
    "## Construct a Model"
   ]
  },
  {
   "cell_type": "code",
   "execution_count": 15,
   "metadata": {
    "collapsed": true
   },
   "outputs": [],
   "source": [
    "model = keras.models.Sequential()\n",
    "model.add(keras.layers.Flatten(input_shape=[28, 28]))\n",
    "model.add(keras.layers.Dense(300, activation=\"relu\"))\n",
    "model.add(keras.layers.Dense(100, activation=\"relu\"))\n",
    "model.add(keras.layers.Dense(10, activation=\"softmax\"))"
   ]
  },
  {
   "cell_type": "code",
   "execution_count": 16,
   "metadata": {
    "collapsed": true
   },
   "outputs": [],
   "source": [
    "keras.backend.clear_session()\n",
    "np.random.seed(42)"
   ]
  },
  {
   "cell_type": "markdown",
   "metadata": {},
   "source": [
    "### or using the folowing method"
   ]
  },
  {
   "cell_type": "code",
   "execution_count": 17,
   "metadata": {
    "collapsed": true
   },
   "outputs": [],
   "source": [
    "model = keras.models.Sequential([\n",
    "    keras.layers.Flatten(input_shape=[28, 28]),\n",
    "    keras.layers.Dense(300, activation=\"relu\"),\n",
    "    keras.layers.Dense(100, activation=\"relu\"),\n",
    "    keras.layers.Dense(10, activation=\"softmax\")\n",
    "])"
   ]
  },
  {
   "cell_type": "code",
   "execution_count": 18,
   "metadata": {},
   "outputs": [
    {
     "data": {
      "text/plain": [
       "[<keras.layers.core.flatten.Flatten at 0x1307f2812e0>,\n",
       " <keras.layers.core.dense.Dense at 0x1307f281340>,\n",
       " <keras.layers.core.dense.Dense at 0x1307f2818e0>,\n",
       " <keras.layers.core.dense.Dense at 0x1307f281c10>]"
      ]
     },
     "execution_count": 18,
     "metadata": {},
     "output_type": "execute_result"
    }
   ],
   "source": [
    "model.layers"
   ]
  },
  {
   "cell_type": "code",
   "execution_count": 19,
   "metadata": {},
   "outputs": [
    {
     "name": "stdout",
     "output_type": "stream",
     "text": [
      "Model: \"sequential\"\n",
      "_________________________________________________________________\n",
      " Layer (type)                Output Shape              Param #   \n",
      "=================================================================\n",
      " flatten (Flatten)           (None, 784)               0         \n",
      "                                                                 \n",
      " dense (Dense)               (None, 300)               235500    \n",
      "                                                                 \n",
      " dense_1 (Dense)             (None, 100)               30100     \n",
      "                                                                 \n",
      " dense_2 (Dense)             (None, 10)                1010      \n",
      "                                                                 \n",
      "=================================================================\n",
      "Total params: 266,610\n",
      "Trainable params: 266,610\n",
      "Non-trainable params: 0\n",
      "_________________________________________________________________\n"
     ]
    }
   ],
   "source": [
    "model.summary()"
   ]
  },
  {
   "cell_type": "code",
   "execution_count": 20,
   "metadata": {
    "collapsed": true
   },
   "outputs": [],
   "source": [
    "#keras.utils.plot_model(model, \"my_mnist_model.png\", show_shapes=True)"
   ]
  },
  {
   "cell_type": "code",
   "execution_count": 21,
   "metadata": {},
   "outputs": [
    {
     "data": {
      "text/plain": [
       "'dense'"
      ]
     },
     "execution_count": 21,
     "metadata": {},
     "output_type": "execute_result"
    }
   ],
   "source": [
    "hidden1 = model.layers[1]\n",
    "hidden1.name"
   ]
  },
  {
   "cell_type": "code",
   "execution_count": 22,
   "metadata": {},
   "outputs": [
    {
     "data": {
      "text/plain": [
       "True"
      ]
     },
     "execution_count": 22,
     "metadata": {},
     "output_type": "execute_result"
    }
   ],
   "source": [
    "model.get_layer(hidden1.name) is hidden1"
   ]
  },
  {
   "cell_type": "code",
   "execution_count": 23,
   "metadata": {
    "collapsed": true
   },
   "outputs": [],
   "source": [
    "weights, biases = hidden1.get_weights()"
   ]
  },
  {
   "cell_type": "code",
   "execution_count": 24,
   "metadata": {},
   "outputs": [
    {
     "data": {
      "text/plain": [
       "array([[ 0.01972207, -0.0145672 , -0.05803727, ..., -0.00183461,\n",
       "         0.01040527, -0.0432558 ],\n",
       "       [ 0.02371603,  0.02106994, -0.02706497, ...,  0.03094663,\n",
       "        -0.0247922 , -0.01978599],\n",
       "       [ 0.06951731,  0.03129193,  0.06584999, ..., -0.07044216,\n",
       "         0.03777549, -0.0273945 ],\n",
       "       ...,\n",
       "       [-0.01230622,  0.01060139,  0.06947446, ..., -0.02505284,\n",
       "         0.0691504 , -0.05208125],\n",
       "       [-0.05416153, -0.03094661, -0.04424406, ..., -0.06679036,\n",
       "        -0.06672392,  0.05018248],\n",
       "       [-0.07059111, -0.03820666,  0.06252676, ...,  0.01024907,\n",
       "         0.05903284,  0.0362119 ]], dtype=float32)"
      ]
     },
     "execution_count": 24,
     "metadata": {},
     "output_type": "execute_result"
    }
   ],
   "source": [
    "weights"
   ]
  },
  {
   "cell_type": "code",
   "execution_count": 25,
   "metadata": {},
   "outputs": [
    {
     "data": {
      "text/plain": [
       "(784, 300)"
      ]
     },
     "execution_count": 25,
     "metadata": {},
     "output_type": "execute_result"
    }
   ],
   "source": [
    "weights.shape"
   ]
  },
  {
   "cell_type": "code",
   "execution_count": 26,
   "metadata": {},
   "outputs": [
    {
     "data": {
      "text/plain": [
       "array([0., 0., 0., 0., 0., 0., 0., 0., 0., 0., 0., 0., 0., 0., 0., 0., 0.,\n",
       "       0., 0., 0., 0., 0., 0., 0., 0., 0., 0., 0., 0., 0., 0., 0., 0., 0.,\n",
       "       0., 0., 0., 0., 0., 0., 0., 0., 0., 0., 0., 0., 0., 0., 0., 0., 0.,\n",
       "       0., 0., 0., 0., 0., 0., 0., 0., 0., 0., 0., 0., 0., 0., 0., 0., 0.,\n",
       "       0., 0., 0., 0., 0., 0., 0., 0., 0., 0., 0., 0., 0., 0., 0., 0., 0.,\n",
       "       0., 0., 0., 0., 0., 0., 0., 0., 0., 0., 0., 0., 0., 0., 0., 0., 0.,\n",
       "       0., 0., 0., 0., 0., 0., 0., 0., 0., 0., 0., 0., 0., 0., 0., 0., 0.,\n",
       "       0., 0., 0., 0., 0., 0., 0., 0., 0., 0., 0., 0., 0., 0., 0., 0., 0.,\n",
       "       0., 0., 0., 0., 0., 0., 0., 0., 0., 0., 0., 0., 0., 0., 0., 0., 0.,\n",
       "       0., 0., 0., 0., 0., 0., 0., 0., 0., 0., 0., 0., 0., 0., 0., 0., 0.,\n",
       "       0., 0., 0., 0., 0., 0., 0., 0., 0., 0., 0., 0., 0., 0., 0., 0., 0.,\n",
       "       0., 0., 0., 0., 0., 0., 0., 0., 0., 0., 0., 0., 0., 0., 0., 0., 0.,\n",
       "       0., 0., 0., 0., 0., 0., 0., 0., 0., 0., 0., 0., 0., 0., 0., 0., 0.,\n",
       "       0., 0., 0., 0., 0., 0., 0., 0., 0., 0., 0., 0., 0., 0., 0., 0., 0.,\n",
       "       0., 0., 0., 0., 0., 0., 0., 0., 0., 0., 0., 0., 0., 0., 0., 0., 0.,\n",
       "       0., 0., 0., 0., 0., 0., 0., 0., 0., 0., 0., 0., 0., 0., 0., 0., 0.,\n",
       "       0., 0., 0., 0., 0., 0., 0., 0., 0., 0., 0., 0., 0., 0., 0., 0., 0.,\n",
       "       0., 0., 0., 0., 0., 0., 0., 0., 0., 0., 0.], dtype=float32)"
      ]
     },
     "execution_count": 26,
     "metadata": {},
     "output_type": "execute_result"
    }
   ],
   "source": [
    "biases"
   ]
  },
  {
   "cell_type": "code",
   "execution_count": 27,
   "metadata": {},
   "outputs": [
    {
     "data": {
      "text/plain": [
       "(300,)"
      ]
     },
     "execution_count": 27,
     "metadata": {},
     "output_type": "execute_result"
    }
   ],
   "source": [
    "biases.shape"
   ]
  },
  {
   "cell_type": "markdown",
   "metadata": {},
   "source": [
    "### Compile the Model\n",
    "Here you can chose the loss function, the optimizer, the performance metric, etc. check Keras documentation for further details."
   ]
  },
  {
   "cell_type": "code",
   "execution_count": 28,
   "metadata": {
    "collapsed": true
   },
   "outputs": [],
   "source": [
    "model.compile(loss=\"sparse_categorical_crossentropy\",\n",
    "              optimizer=\"sgd\",\n",
    "              metrics=[\"accuracy\"])"
   ]
  },
  {
   "cell_type": "markdown",
   "metadata": {},
   "source": [
    "This is equivalent to:"
   ]
  },
  {
   "cell_type": "markdown",
   "metadata": {},
   "source": [
    "```python\n",
    "model.compile(loss=keras.losses.sparse_categorical_crossentropy,\n",
    "              optimizer=keras.optimizers.SGD(),\n",
    "              metrics=[keras.metrics.sparse_categorical_accuracy])\n",
    "```"
   ]
  },
  {
   "cell_type": "markdown",
   "metadata": {},
   "source": [
    "### Train the model\n",
    "Here you can chose how many epochs you need and the batch size."
   ]
  },
  {
   "cell_type": "code",
   "execution_count": 29,
   "metadata": {},
   "outputs": [
    {
     "name": "stdout",
     "output_type": "stream",
     "text": [
      "Epoch 1/30\n",
      "1719/1719 [==============================] - 9s 5ms/step - loss: 0.7159 - accuracy: 0.7605 - val_loss: 0.5017 - val_accuracy: 0.8288\n",
      "Epoch 2/30\n",
      "1719/1719 [==============================] - 8s 5ms/step - loss: 0.4886 - accuracy: 0.8282 - val_loss: 0.4488 - val_accuracy: 0.8460\n",
      "Epoch 3/30\n",
      "1719/1719 [==============================] - 8s 5ms/step - loss: 0.4436 - accuracy: 0.8445 - val_loss: 0.4225 - val_accuracy: 0.8558\n",
      "Epoch 4/30\n",
      "1719/1719 [==============================] - 8s 5ms/step - loss: 0.4156 - accuracy: 0.8534 - val_loss: 0.4063 - val_accuracy: 0.8548\n",
      "Epoch 5/30\n",
      "1719/1719 [==============================] - 8s 5ms/step - loss: 0.3967 - accuracy: 0.8606 - val_loss: 0.3812 - val_accuracy: 0.8710\n",
      "Epoch 6/30\n",
      "1719/1719 [==============================] - 8s 5ms/step - loss: 0.3807 - accuracy: 0.8656 - val_loss: 0.3860 - val_accuracy: 0.8634\n",
      "Epoch 7/30\n",
      "1719/1719 [==============================] - 8s 5ms/step - loss: 0.3679 - accuracy: 0.8699 - val_loss: 0.3647 - val_accuracy: 0.8726\n",
      "Epoch 8/30\n",
      "1719/1719 [==============================] - 9s 5ms/step - loss: 0.3557 - accuracy: 0.8745 - val_loss: 0.3488 - val_accuracy: 0.8770\n",
      "Epoch 9/30\n",
      "1719/1719 [==============================] - 8s 5ms/step - loss: 0.3459 - accuracy: 0.8774 - val_loss: 0.3636 - val_accuracy: 0.8696\n",
      "Epoch 10/30\n",
      "1719/1719 [==============================] - 9s 5ms/step - loss: 0.3359 - accuracy: 0.8798 - val_loss: 0.3661 - val_accuracy: 0.8682\n",
      "Epoch 11/30\n",
      "1719/1719 [==============================] - 8s 5ms/step - loss: 0.3278 - accuracy: 0.8826 - val_loss: 0.3339 - val_accuracy: 0.8834\n",
      "Epoch 12/30\n",
      "1719/1719 [==============================] - 7s 4ms/step - loss: 0.3189 - accuracy: 0.8851 - val_loss: 0.3398 - val_accuracy: 0.8814\n",
      "Epoch 13/30\n",
      "1719/1719 [==============================] - 7s 4ms/step - loss: 0.3118 - accuracy: 0.8881 - val_loss: 0.3285 - val_accuracy: 0.8836\n",
      "Epoch 14/30\n",
      "1719/1719 [==============================] - 8s 5ms/step - loss: 0.3047 - accuracy: 0.8897 - val_loss: 0.3305 - val_accuracy: 0.8828\n",
      "Epoch 15/30\n",
      "1719/1719 [==============================] - 8s 4ms/step - loss: 0.2983 - accuracy: 0.8920 - val_loss: 0.3475 - val_accuracy: 0.8748\n",
      "Epoch 16/30\n",
      "1719/1719 [==============================] - 7s 4ms/step - loss: 0.2931 - accuracy: 0.8933 - val_loss: 0.3221 - val_accuracy: 0.8852\n",
      "Epoch 17/30\n",
      "1719/1719 [==============================] - 8s 4ms/step - loss: 0.2881 - accuracy: 0.8961 - val_loss: 0.3282 - val_accuracy: 0.8774\n",
      "Epoch 18/30\n",
      "1719/1719 [==============================] - 7s 4ms/step - loss: 0.2813 - accuracy: 0.8986 - val_loss: 0.3146 - val_accuracy: 0.8878\n",
      "Epoch 19/30\n",
      "1719/1719 [==============================] - 7s 4ms/step - loss: 0.2759 - accuracy: 0.9010 - val_loss: 0.3111 - val_accuracy: 0.8930\n",
      "Epoch 20/30\n",
      "1719/1719 [==============================] - 8s 5ms/step - loss: 0.2700 - accuracy: 0.9020 - val_loss: 0.3295 - val_accuracy: 0.8854\n",
      "Epoch 21/30\n",
      "1719/1719 [==============================] - 9s 5ms/step - loss: 0.2666 - accuracy: 0.9030 - val_loss: 0.3071 - val_accuracy: 0.8872\n",
      "Epoch 22/30\n",
      "1719/1719 [==============================] - 9s 5ms/step - loss: 0.2615 - accuracy: 0.9054 - val_loss: 0.3051 - val_accuracy: 0.8904\n",
      "Epoch 23/30\n",
      "1719/1719 [==============================] - 8s 5ms/step - loss: 0.2563 - accuracy: 0.9074 - val_loss: 0.3179 - val_accuracy: 0.8848\n",
      "Epoch 24/30\n",
      "1719/1719 [==============================] - 8s 5ms/step - loss: 0.2528 - accuracy: 0.9095 - val_loss: 0.2955 - val_accuracy: 0.8942\n",
      "Epoch 25/30\n",
      "1719/1719 [==============================] - 8s 5ms/step - loss: 0.2484 - accuracy: 0.9097 - val_loss: 0.3048 - val_accuracy: 0.8938\n",
      "Epoch 26/30\n",
      "1719/1719 [==============================] - 8s 5ms/step - loss: 0.2444 - accuracy: 0.9116 - val_loss: 0.2996 - val_accuracy: 0.8888\n",
      "Epoch 27/30\n",
      "1719/1719 [==============================] - 8s 5ms/step - loss: 0.2399 - accuracy: 0.9133 - val_loss: 0.3014 - val_accuracy: 0.8896\n",
      "Epoch 28/30\n",
      "1719/1719 [==============================] - 8s 5ms/step - loss: 0.2364 - accuracy: 0.9147 - val_loss: 0.3024 - val_accuracy: 0.8914\n",
      "Epoch 29/30\n",
      "1719/1719 [==============================] - 8s 5ms/step - loss: 0.2327 - accuracy: 0.9159 - val_loss: 0.3296 - val_accuracy: 0.8764\n",
      "Epoch 30/30\n",
      "1719/1719 [==============================] - 8s 5ms/step - loss: 0.2278 - accuracy: 0.9180 - val_loss: 0.3015 - val_accuracy: 0.8908\n"
     ]
    }
   ],
   "source": [
    "history = model.fit(X_train, y_train, batch_size=32, epochs=30,\n",
    "                    validation_data=(X_valid, y_valid))"
   ]
  },
  {
   "cell_type": "code",
   "execution_count": 30,
   "metadata": {},
   "outputs": [
    {
     "data": {
      "text/plain": [
       "{'verbose': 1, 'epochs': 30, 'steps': 1719}"
      ]
     },
     "execution_count": 30,
     "metadata": {},
     "output_type": "execute_result"
    }
   ],
   "source": [
    "history.params"
   ]
  },
  {
   "cell_type": "code",
   "execution_count": 31,
   "metadata": {},
   "outputs": [
    {
     "name": "stdout",
     "output_type": "stream",
     "text": [
      "[0, 1, 2, 3, 4, 5, 6, 7, 8, 9, 10, 11, 12, 13, 14, 15, 16, 17, 18, 19, 20, 21, 22, 23, 24, 25, 26, 27, 28, 29]\n"
     ]
    }
   ],
   "source": [
    "print(history.epoch)"
   ]
  },
  {
   "cell_type": "code",
   "execution_count": 32,
   "metadata": {},
   "outputs": [
    {
     "data": {
      "text/plain": [
       "dict_keys(['loss', 'accuracy', 'val_loss', 'val_accuracy'])"
      ]
     },
     "execution_count": 32,
     "metadata": {},
     "output_type": "execute_result"
    }
   ],
   "source": [
    "history.history.keys()"
   ]
  },
  {
   "cell_type": "markdown",
   "metadata": {},
   "source": [
    "### Plot learning Curves"
   ]
  },
  {
   "cell_type": "code",
   "execution_count": 33,
   "metadata": {},
   "outputs": [
    {
     "data": {
      "image/png": "[encoded data removed]",
      "text/plain": [
       "<Figure size 576x360 with 1 Axes>"
      ]
     },
     "metadata": {
      "needs_background": "light"
     },
     "output_type": "display_data"
    }
   ],
   "source": [
    "import pandas as pd\n",
    "\n",
    "pd.DataFrame(history.history).plot(figsize=(8, 5))\n",
    "plt.grid(True)\n",
    "plt.gca().set_ylim(0, 1)\n",
    "plt.show()"
   ]
  },
  {
   "cell_type": "code",
   "execution_count": 34,
   "metadata": {},
   "outputs": [
    {
     "name": "stdout",
     "output_type": "stream",
     "text": [
      "313/313 [==============================] - 1s 3ms/step - loss: 0.3312 - accuracy: 0.8837\n"
     ]
    },
    {
     "data": {
      "text/plain": [
       "[0.3311777710914612, 0.8837000131607056]"
      ]
     },
     "execution_count": 34,
     "metadata": {},
     "output_type": "execute_result"
    }
   ],
   "source": [
    "model.evaluate(X_test, y_test)"
   ]
  },
  {
   "cell_type": "code",
   "execution_count": 35,
   "metadata": {},
   "outputs": [
    {
     "data": {
      "text/plain": [
       "array([[0.  , 0.  , 0.  , 0.  , 0.  , 0.01, 0.  , 0.01, 0.  , 0.98],\n",
       "       [0.  , 0.  , 1.  , 0.  , 0.  , 0.  , 0.  , 0.  , 0.  , 0.  ],\n",
       "       [0.  , 1.  , 0.  , 0.  , 0.  , 0.  , 0.  , 0.  , 0.  , 0.  ]],\n",
       "      dtype=float32)"
      ]
     },
     "execution_count": 35,
     "metadata": {},
     "output_type": "execute_result"
    }
   ],
   "source": [
    "X_new = X_test[:3]\n",
    "y_proba = model.predict(X_new)\n",
    "y_proba.round(2)"
   ]
  },
  {
   "cell_type": "code",
   "execution_count": 39,
   "metadata": {},
   "outputs": [
    {
     "data": {
      "text/plain": [
       "array([9, 2, 1], dtype=int64)"
      ]
     },
     "execution_count": 39,
     "metadata": {},
     "output_type": "execute_result"
    }
   ],
   "source": [
    "y_pred = np.argmax(model.predict(X_new), axis=-1)\n",
    "y_pred"
   ]
  },
  {
   "cell_type": "code",
   "execution_count": 40,
   "metadata": {},
   "outputs": [
    {
     "data": {
      "text/plain": [
       "array(['Ankle boot', 'Pullover', 'Trouser'], dtype='<U11')"
      ]
     },
     "execution_count": 40,
     "metadata": {},
     "output_type": "execute_result"
    }
   ],
   "source": [
    "np.array(class_names)[y_pred]"
   ]
  },
  {
   "cell_type": "code",
   "execution_count": 41,
   "metadata": {},
   "outputs": [
    {
     "data": {
      "text/plain": [
       "array([9, 2, 1], dtype=uint8)"
      ]
     },
     "execution_count": 41,
     "metadata": {},
     "output_type": "execute_result"
    }
   ],
   "source": [
    "y_new = y_test[:3]\n",
    "y_new"
   ]
  },
  {
   "cell_type": "code",
   "execution_count": 42,
   "metadata": {},
   "outputs": [
    {
     "data": {
      "image/png": "[encoded data removed]",
      "text/plain": [
       "<Figure size 518.4x172.8 with 3 Axes>"
      ]
     },
     "metadata": {
      "needs_background": "light"
     },
     "output_type": "display_data"
    }
   ],
   "source": [
    "plt.figure(figsize=(7.2, 2.4))\n",
    "for index, image in enumerate(X_new):\n",
    "    plt.subplot(1, 3, index + 1)\n",
    "    plt.imshow(image, cmap=\"binary\", interpolation=\"nearest\")\n",
    "    plt.axis('off')\n",
    "    plt.title(class_names[y_test[index]], fontsize=12)\n",
    "plt.subplots_adjust(wspace=0.2, hspace=0.5)\n",
    "plt.show()"
   ]
  },
  {
   "cell_type": "markdown",
   "metadata": {
    "collapsed": true
   },
   "source": [
    "## Exercise"
   ]
  },
  {
   "cell_type": "markdown",
   "metadata": {},
   "source": [
    "#### 1) Plot Learning curves when using different optimizers\n",
    "#### 2) Plot Learning curves when using different batch size\n",
    "#### 3) Plot Learning curves when using different number of epochs\n",
    "#### 4) Add additional neurons and use Dropout Layer. Plot Learning curves.\n",
    "#### 5) Use Batch Normalisation\n",
    "#### 6) repeat with more layers\n",
    "#### 7) apply on different datasets"
   ]
  },
  {
   "cell_type": "markdown",
   "metadata": {
    "collapsed": true
   },
   "source": [
    "Solution"
   ]
  },
  {
   "cell_type": "markdown",
   "metadata": {},
   "source": [
    "1) With Adam Optimizer"
   ]
  },
  {
   "cell_type": "code",
   "execution_count": 43,
   "metadata": {},
   "outputs": [],
   "source": [
    "model.compile(loss=\"sparse_categorical_crossentropy\",\n",
    "              optimizer=\"adam\",\n",
    "              metrics=[\"accuracy\"])"
   ]
  },
  {
   "cell_type": "code",
   "execution_count": 44,
   "metadata": {},
   "outputs": [
    {
     "name": "stdout",
     "output_type": "stream",
     "text": [
      "Epoch 1/30\n",
      "1719/1719 [==============================] - 10s 5ms/step - loss: 0.3796 - accuracy: 0.8620 - val_loss: 0.3969 - val_accuracy: 0.8562\n",
      "Epoch 2/30\n",
      "1719/1719 [==============================] - 9s 5ms/step - loss: 0.3324 - accuracy: 0.8773 - val_loss: 0.3515 - val_accuracy: 0.8726\n",
      "Epoch 3/30\n",
      "1719/1719 [==============================] - 9s 5ms/step - loss: 0.3097 - accuracy: 0.8856 - val_loss: 0.3126 - val_accuracy: 0.8802\n",
      "Epoch 4/30\n",
      "1719/1719 [==============================] - 9s 5ms/step - loss: 0.2906 - accuracy: 0.8927 - val_loss: 0.3263 - val_accuracy: 0.8808\n",
      "Epoch 5/30\n",
      "1719/1719 [==============================] - 9s 5ms/step - loss: 0.2762 - accuracy: 0.8965 - val_loss: 0.3060 - val_accuracy: 0.8898\n",
      "Epoch 6/30\n",
      "1719/1719 [==============================] - 9s 5ms/step - loss: 0.2622 - accuracy: 0.9023 - val_loss: 0.3116 - val_accuracy: 0.8900\n",
      "Epoch 7/30\n",
      "1719/1719 [==============================] - 9s 5ms/step - loss: 0.2519 - accuracy: 0.9057 - val_loss: 0.3328 - val_accuracy: 0.8776\n",
      "Epoch 8/30\n",
      "1719/1719 [==============================] - 9s 5ms/step - loss: 0.2422 - accuracy: 0.9079 - val_loss: 0.3135 - val_accuracy: 0.8876\n",
      "Epoch 9/30\n",
      "1719/1719 [==============================] - 9s 5ms/step - loss: 0.2313 - accuracy: 0.9125 - val_loss: 0.3289 - val_accuracy: 0.8894\n",
      "Epoch 10/30\n",
      "1719/1719 [==============================] - 9s 5ms/step - loss: 0.2234 - accuracy: 0.9159 - val_loss: 0.3438 - val_accuracy: 0.8832\n",
      "Epoch 11/30\n",
      "1719/1719 [==============================] - 10s 6ms/step - loss: 0.2145 - accuracy: 0.9184 - val_loss: 0.3189 - val_accuracy: 0.8952\n",
      "Epoch 12/30\n",
      "1719/1719 [==============================] - 9s 5ms/step - loss: 0.2078 - accuracy: 0.9211 - val_loss: 0.3165 - val_accuracy: 0.8968\n",
      "Epoch 13/30\n",
      "1719/1719 [==============================] - 9s 5ms/step - loss: 0.1985 - accuracy: 0.9245 - val_loss: 0.3326 - val_accuracy: 0.8926\n",
      "Epoch 14/30\n",
      "1719/1719 [==============================] - 9s 5ms/step - loss: 0.1944 - accuracy: 0.9264 - val_loss: 0.3440 - val_accuracy: 0.8924\n",
      "Epoch 15/30\n",
      "1719/1719 [==============================] - 9s 5ms/step - loss: 0.1888 - accuracy: 0.9287 - val_loss: 0.3303 - val_accuracy: 0.8948\n",
      "Epoch 16/30\n",
      "1719/1719 [==============================] - 9s 5ms/step - loss: 0.1831 - accuracy: 0.9310 - val_loss: 0.3745 - val_accuracy: 0.8918\n",
      "Epoch 17/30\n",
      "1719/1719 [==============================] - 10s 6ms/step - loss: 0.1762 - accuracy: 0.9324 - val_loss: 0.3374 - val_accuracy: 0.8936\n",
      "Epoch 18/30\n",
      "1719/1719 [==============================] - 10s 6ms/step - loss: 0.1707 - accuracy: 0.9350 - val_loss: 0.3399 - val_accuracy: 0.8974\n",
      "Epoch 19/30\n",
      "1719/1719 [==============================] - 10s 6ms/step - loss: 0.1695 - accuracy: 0.9354 - val_loss: 0.3888 - val_accuracy: 0.8932\n",
      "Epoch 20/30\n",
      "1719/1719 [==============================] - 8s 5ms/step - loss: 0.1607 - accuracy: 0.9392 - val_loss: 0.3892 - val_accuracy: 0.8954\n",
      "Epoch 21/30\n",
      "1719/1719 [==============================] - 7s 4ms/step - loss: 0.1588 - accuracy: 0.9386 - val_loss: 0.3694 - val_accuracy: 0.8986\n",
      "Epoch 22/30\n",
      "1719/1719 [==============================] - 8s 5ms/step - loss: 0.1538 - accuracy: 0.9409 - val_loss: 0.4169 - val_accuracy: 0.8876\n",
      "Epoch 23/30\n",
      "1719/1719 [==============================] - 10s 6ms/step - loss: 0.1511 - accuracy: 0.9420 - val_loss: 0.3641 - val_accuracy: 0.8978\n",
      "Epoch 24/30\n",
      "1719/1719 [==============================] - 9s 5ms/step - loss: 0.1489 - accuracy: 0.9430 - val_loss: 0.3838 - val_accuracy: 0.8998\n",
      "Epoch 25/30\n",
      "1719/1719 [==============================] - 8s 4ms/step - loss: 0.1432 - accuracy: 0.9460 - val_loss: 0.4348 - val_accuracy: 0.8964\n",
      "Epoch 26/30\n",
      "1719/1719 [==============================] - 7s 4ms/step - loss: 0.1394 - accuracy: 0.9469 - val_loss: 0.4013 - val_accuracy: 0.9018\n",
      "Epoch 27/30\n",
      "1719/1719 [==============================] - 7s 4ms/step - loss: 0.1354 - accuracy: 0.9483 - val_loss: 0.4246 - val_accuracy: 0.8958\n",
      "Epoch 28/30\n",
      "1719/1719 [==============================] - 7s 4ms/step - loss: 0.1336 - accuracy: 0.9489 - val_loss: 0.3876 - val_accuracy: 0.8988\n",
      "Epoch 29/30\n",
      "1719/1719 [==============================] - 7s 4ms/step - loss: 0.1284 - accuracy: 0.9504 - val_loss: 0.4139 - val_accuracy: 0.8998\n",
      "Epoch 30/30\n",
      "1719/1719 [==============================] - 8s 5ms/step - loss: 0.1267 - accuracy: 0.9508 - val_loss: 0.4339 - val_accuracy: 0.9020\n"
     ]
    }
   ],
   "source": [
    "history = model.fit(X_train, y_train, batch_size=32, epochs=30,\n",
    "                    validation_data=(X_valid, y_valid))"
   ]
  },
  {
   "cell_type": "markdown",
   "metadata": {},
   "source": [
    "plot learning curves"
   ]
  },
  {
   "cell_type": "code",
   "execution_count": 45,
   "metadata": {},
   "outputs": [
    {
     "data": {
      "image/png": "[encoded data removed]",
      "text/plain": [
       "<Figure size 576x360 with 1 Axes>"
      ]
     },
     "metadata": {
      "needs_background": "light"
     },
     "output_type": "display_data"
    }
   ],
   "source": [
    "pd.DataFrame(history.history).plot(figsize=(8, 5))\n",
    "plt.grid(True)\n",
    "plt.gca().set_ylim(0, 1)\n",
    "plt.show()"
   ]
  },
  {
   "cell_type": "markdown",
   "metadata": {},
   "source": [
    "#### 2) Plot Learning curves when using different batch size"
   ]
  },
  {
   "cell_type": "markdown",
   "metadata": {},
   "source": [
    "we gonna try to fit the medel with 50 batchs"
   ]
  },
  {
   "cell_type": "code",
   "execution_count": 46,
   "metadata": {},
   "outputs": [
    {
     "name": "stdout",
     "output_type": "stream",
     "text": [
      "Epoch 1/30\n",
      "1100/1100 [==============================] - 8s 7ms/step - loss: 0.1017 - accuracy: 0.9607 - val_loss: 0.4350 - val_accuracy: 0.9040\n",
      "Epoch 2/30\n",
      "1100/1100 [==============================] - 8s 7ms/step - loss: 0.1029 - accuracy: 0.9605 - val_loss: 0.4444 - val_accuracy: 0.8998\n",
      "Epoch 3/30\n",
      "1100/1100 [==============================] - 8s 7ms/step - loss: 0.1021 - accuracy: 0.9604 - val_loss: 0.4343 - val_accuracy: 0.9024\n",
      "Epoch 4/30\n",
      "1100/1100 [==============================] - 8s 7ms/step - loss: 0.0995 - accuracy: 0.9618 - val_loss: 0.4442 - val_accuracy: 0.9020\n",
      "Epoch 5/30\n",
      "1100/1100 [==============================] - 8s 7ms/step - loss: 0.0994 - accuracy: 0.9613 - val_loss: 0.4762 - val_accuracy: 0.9020\n",
      "Epoch 6/30\n",
      "1100/1100 [==============================] - 8s 7ms/step - loss: 0.0952 - accuracy: 0.9637 - val_loss: 0.4761 - val_accuracy: 0.9014\n",
      "Epoch 7/30\n",
      "1100/1100 [==============================] - 8s 7ms/step - loss: 0.0941 - accuracy: 0.9634 - val_loss: 0.5331 - val_accuracy: 0.8996\n",
      "Epoch 8/30\n",
      "1100/1100 [==============================] - 8s 7ms/step - loss: 0.0926 - accuracy: 0.9645 - val_loss: 0.5164 - val_accuracy: 0.9036\n",
      "Epoch 9/30\n",
      "1100/1100 [==============================] - 8s 7ms/step - loss: 0.0881 - accuracy: 0.9660 - val_loss: 0.5179 - val_accuracy: 0.9032\n",
      "Epoch 10/30\n",
      "1100/1100 [==============================] - 9s 8ms/step - loss: 0.0853 - accuracy: 0.9672 - val_loss: 0.5325 - val_accuracy: 0.9016\n",
      "Epoch 11/30\n",
      "1100/1100 [==============================] - 8s 7ms/step - loss: 0.0872 - accuracy: 0.9662 - val_loss: 0.5109 - val_accuracy: 0.9000\n",
      "Epoch 12/30\n",
      "1100/1100 [==============================] - 7s 6ms/step - loss: 0.0848 - accuracy: 0.9668 - val_loss: 0.5602 - val_accuracy: 0.8968\n",
      "Epoch 13/30\n",
      "1100/1100 [==============================] - 8s 7ms/step - loss: 0.0816 - accuracy: 0.9685 - val_loss: 0.5317 - val_accuracy: 0.9032\n",
      "Epoch 14/30\n",
      "1100/1100 [==============================] - 8s 7ms/step - loss: 0.0812 - accuracy: 0.9692 - val_loss: 0.5491 - val_accuracy: 0.8992\n",
      "Epoch 15/30\n",
      "1100/1100 [==============================] - 8s 7ms/step - loss: 0.0794 - accuracy: 0.9697 - val_loss: 0.5366 - val_accuracy: 0.9004\n",
      "Epoch 16/30\n",
      "1100/1100 [==============================] - 7s 7ms/step - loss: 0.0783 - accuracy: 0.9702 - val_loss: 0.5729 - val_accuracy: 0.8974\n",
      "Epoch 17/30\n",
      "1100/1100 [==============================] - 8s 7ms/step - loss: 0.0751 - accuracy: 0.9709 - val_loss: 0.5704 - val_accuracy: 0.9012\n",
      "Epoch 18/30\n",
      "1100/1100 [==============================] - 8s 7ms/step - loss: 0.0763 - accuracy: 0.9707 - val_loss: 0.6090 - val_accuracy: 0.8984\n",
      "Epoch 19/30\n",
      "1100/1100 [==============================] - 8s 7ms/step - loss: 0.0687 - accuracy: 0.9731 - val_loss: 0.5679 - val_accuracy: 0.8972\n",
      "Epoch 20/30\n",
      "1100/1100 [==============================] - 7s 7ms/step - loss: 0.0720 - accuracy: 0.9725 - val_loss: 0.6020 - val_accuracy: 0.8986\n",
      "Epoch 21/30\n",
      "1100/1100 [==============================] - 8s 7ms/step - loss: 0.0689 - accuracy: 0.9743 - val_loss: 0.5895 - val_accuracy: 0.9026\n",
      "Epoch 22/30\n",
      "1100/1100 [==============================] - 8s 7ms/step - loss: 0.0685 - accuracy: 0.9738 - val_loss: 0.6640 - val_accuracy: 0.9004\n",
      "Epoch 23/30\n",
      "1100/1100 [==============================] - 8s 7ms/step - loss: 0.0701 - accuracy: 0.9737 - val_loss: 0.6269 - val_accuracy: 0.8982\n",
      "Epoch 24/30\n",
      "1100/1100 [==============================] - 8s 7ms/step - loss: 0.0636 - accuracy: 0.9759 - val_loss: 0.6485 - val_accuracy: 0.8988\n",
      "Epoch 25/30\n",
      "1100/1100 [==============================] - 8s 7ms/step - loss: 0.0657 - accuracy: 0.9752 - val_loss: 0.6521 - val_accuracy: 0.8962\n",
      "Epoch 26/30\n",
      "1100/1100 [==============================] - 8s 7ms/step - loss: 0.0674 - accuracy: 0.9741 - val_loss: 0.6699 - val_accuracy: 0.9000\n",
      "Epoch 27/30\n",
      "1100/1100 [==============================] - 8s 7ms/step - loss: 0.0623 - accuracy: 0.9765 - val_loss: 0.6785 - val_accuracy: 0.8978\n",
      "Epoch 28/30\n",
      "1100/1100 [==============================] - 8s 7ms/step - loss: 0.0596 - accuracy: 0.9771 - val_loss: 0.6643 - val_accuracy: 0.9014\n",
      "Epoch 29/30\n",
      "1100/1100 [==============================] - 7s 7ms/step - loss: 0.0627 - accuracy: 0.9759 - val_loss: 0.6883 - val_accuracy: 0.8944\n",
      "Epoch 30/30\n",
      "1100/1100 [==============================] - 7s 7ms/step - loss: 0.0587 - accuracy: 0.9785 - val_loss: 0.6967 - val_accuracy: 0.8980\n"
     ]
    }
   ],
   "source": [
    "history = model.fit(X_train, y_train, batch_size=50, epochs=30,\n",
    "                    validation_data=(X_valid, y_valid))"
   ]
  },
  {
   "cell_type": "markdown",
   "metadata": {},
   "source": [
    "plot learning curves"
   ]
  },
  {
   "cell_type": "code",
   "execution_count": 47,
   "metadata": {},
   "outputs": [
    {
     "data": {
      "image/png": "[encoded data removed]",
      "text/plain": [
       "<Figure size 576x360 with 1 Axes>"
      ]
     },
     "metadata": {
      "needs_background": "light"
     },
     "output_type": "display_data"
    }
   ],
   "source": [
    "pd.DataFrame(history.history).plot(figsize=(8, 5))\n",
    "plt.grid(True)\n",
    "plt.gca().set_ylim(0, 1)\n",
    "plt.show()"
   ]
  },
  {
   "cell_type": "markdown",
   "metadata": {},
   "source": [
    "#### 3) Plot Learning curves when using different number of epochs\n"
   ]
  },
  {
   "cell_type": "markdown",
   "metadata": {},
   "source": [
    "we gonna try to fit the model with a less number of epochs then we saw earlier, we choose a number of epochs equal to 20 and we see the differece"
   ]
  },
  {
   "cell_type": "code",
   "execution_count": 48,
   "metadata": {},
   "outputs": [
    {
     "name": "stdout",
     "output_type": "stream",
     "text": [
      "Epoch 1/20\n",
      "1100/1100 [==============================] - 8s 7ms/step - loss: 0.0592 - accuracy: 0.9779 - val_loss: 0.6570 - val_accuracy: 0.9020\n",
      "Epoch 2/20\n",
      "1100/1100 [==============================] - 8s 7ms/step - loss: 0.0580 - accuracy: 0.9775 - val_loss: 0.6885 - val_accuracy: 0.8992\n",
      "Epoch 3/20\n",
      "1100/1100 [==============================] - 8s 7ms/step - loss: 0.0570 - accuracy: 0.9785 - val_loss: 0.6989 - val_accuracy: 0.8996\n",
      "Epoch 4/20\n",
      "1100/1100 [==============================] - 8s 7ms/step - loss: 0.0541 - accuracy: 0.9789 - val_loss: 0.7405 - val_accuracy: 0.8978\n",
      "Epoch 5/20\n",
      "1100/1100 [==============================] - 8s 7ms/step - loss: 0.0562 - accuracy: 0.9790 - val_loss: 0.7366 - val_accuracy: 0.8942\n",
      "Epoch 6/20\n",
      "1100/1100 [==============================] - 8s 7ms/step - loss: 0.0519 - accuracy: 0.9806 - val_loss: 0.6800 - val_accuracy: 0.8996\n",
      "Epoch 7/20\n",
      "1100/1100 [==============================] - 8s 7ms/step - loss: 0.0545 - accuracy: 0.9798 - val_loss: 0.7249 - val_accuracy: 0.9004\n",
      "Epoch 8/20\n",
      "1100/1100 [==============================] - 8s 7ms/step - loss: 0.0504 - accuracy: 0.9812 - val_loss: 0.7330 - val_accuracy: 0.8972\n",
      "Epoch 9/20\n",
      "1100/1100 [==============================] - 8s 7ms/step - loss: 0.0572 - accuracy: 0.9794 - val_loss: 0.7254 - val_accuracy: 0.8944\n",
      "Epoch 10/20\n",
      "1100/1100 [==============================] - 8s 7ms/step - loss: 0.0489 - accuracy: 0.9820 - val_loss: 0.7236 - val_accuracy: 0.9006\n",
      "Epoch 11/20\n",
      "1100/1100 [==============================] - 8s 7ms/step - loss: 0.0532 - accuracy: 0.9804 - val_loss: 0.8366 - val_accuracy: 0.8870\n",
      "Epoch 12/20\n",
      "1100/1100 [==============================] - 8s 7ms/step - loss: 0.0528 - accuracy: 0.9801 - val_loss: 0.7824 - val_accuracy: 0.8982\n",
      "Epoch 13/20\n",
      "1100/1100 [==============================] - 8s 7ms/step - loss: 0.0523 - accuracy: 0.9808 - val_loss: 0.8225 - val_accuracy: 0.8986\n",
      "Epoch 14/20\n",
      "1100/1100 [==============================] - 7s 7ms/step - loss: 0.0408 - accuracy: 0.9845 - val_loss: 0.7622 - val_accuracy: 0.8956\n",
      "Epoch 15/20\n",
      "1100/1100 [==============================] - 8s 7ms/step - loss: 0.0519 - accuracy: 0.9814 - val_loss: 0.8114 - val_accuracy: 0.9002\n",
      "Epoch 16/20\n",
      "1100/1100 [==============================] - 8s 7ms/step - loss: 0.0435 - accuracy: 0.9835 - val_loss: 0.7775 - val_accuracy: 0.8886\n",
      "Epoch 17/20\n",
      "1100/1100 [==============================] - 8s 7ms/step - loss: 0.0468 - accuracy: 0.9825 - val_loss: 0.8821 - val_accuracy: 0.8998\n",
      "Epoch 18/20\n",
      "1100/1100 [==============================] - 7s 7ms/step - loss: 0.0533 - accuracy: 0.9803 - val_loss: 0.8354 - val_accuracy: 0.8920\n",
      "Epoch 19/20\n",
      "1100/1100 [==============================] - 7s 7ms/step - loss: 0.0444 - accuracy: 0.9833 - val_loss: 0.8398 - val_accuracy: 0.8946\n",
      "Epoch 20/20\n",
      "1100/1100 [==============================] - 8s 7ms/step - loss: 0.0434 - accuracy: 0.9837 - val_loss: 0.8314 - val_accuracy: 0.9010\n"
     ]
    },
    {
     "data": {
      "image/png": "[encoded data removed]",
      "text/plain": [
       "<Figure size 576x360 with 1 Axes>"
      ]
     },
     "metadata": {
      "needs_background": "light"
     },
     "output_type": "display_data"
    }
   ],
   "source": [
    "history = model.fit(X_train, y_train, batch_size=50, epochs=20,#change epochs value\n",
    "                    validation_data=(X_valid, y_valid))\n",
    "#plot learning curves\n",
    "pd.DataFrame(history.history).plot(figsize=(8, 5))\n",
    "plt.grid(True)\n",
    "plt.gca().set_ylim(0, 1)\n",
    "plt.show()"
   ]
  },
  {
   "cell_type": "markdown",
   "metadata": {},
   "source": [
    "we notice that the more we reduce the number of epochs, the more the loss on the validation data decreases"
   ]
  },
  {
   "cell_type": "markdown",
   "metadata": {},
   "source": [
    "#### 4) Add additional neurons and use Dropout Layer. Plot Learning curves."
   ]
  },
  {
   "cell_type": "code",
   "execution_count": 49,
   "metadata": {},
   "outputs": [],
   "source": [
    "\n",
    "model = keras.models.Sequential([\n",
    "    keras.layers.Flatten(input_shape=[28, 28]),\n",
    "    keras.layers.Dense(300, activation=\"relu\"),\n",
    "    keras.layers.Dense(100, activation=\"relu\"),\n",
    "    keras.layers.Dropout(0.5),\n",
    "    keras.layers.Dense(10, activation=\"softmax\"),\n",
    "    keras.layers.Dense(10, activation=\"softmax\")])"
   ]
  },
  {
   "cell_type": "code",
   "execution_count": 51,
   "metadata": {},
   "outputs": [],
   "source": [
    "model.compile(loss=\"sparse_categorical_crossentropy\",\n",
    "              optimizer=\"adam\",\n",
    "              metrics=[\"accuracy\"])"
   ]
  },
  {
   "cell_type": "code",
   "execution_count": 52,
   "metadata": {},
   "outputs": [
    {
     "name": "stdout",
     "output_type": "stream",
     "text": [
      "Epoch 1/30\n",
      "1719/1719 [==============================] - 10s 5ms/step - loss: 1.4897 - accuracy: 0.5320 - val_loss: 1.0974 - val_accuracy: 0.5874\n",
      "Epoch 2/30\n",
      "1719/1719 [==============================] - 7s 4ms/step - loss: 0.9921 - accuracy: 0.6266 - val_loss: 0.8637 - val_accuracy: 0.6670\n",
      "Epoch 3/30\n",
      "1719/1719 [==============================] - 8s 5ms/step - loss: 0.8306 - accuracy: 0.6668 - val_loss: 0.7549 - val_accuracy: 0.6812\n",
      "Epoch 4/30\n",
      "1719/1719 [==============================] - 10s 6ms/step - loss: 0.7372 - accuracy: 0.6969 - val_loss: 0.6797 - val_accuracy: 0.7058\n",
      "Epoch 5/30\n",
      "1719/1719 [==============================] - 9s 6ms/step - loss: 0.6711 - accuracy: 0.7186 - val_loss: 0.6313 - val_accuracy: 0.7332\n",
      "Epoch 6/30\n",
      "1719/1719 [==============================] - 10s 6ms/step - loss: 0.6326 - accuracy: 0.7285 - val_loss: 0.6067 - val_accuracy: 0.7334\n",
      "Epoch 7/30\n",
      "1719/1719 [==============================] - 10s 6ms/step - loss: 0.5997 - accuracy: 0.7464 - val_loss: 0.5733 - val_accuracy: 0.7752\n",
      "Epoch 8/30\n",
      "1719/1719 [==============================] - 10s 6ms/step - loss: 0.5619 - accuracy: 0.7735 - val_loss: 0.5651 - val_accuracy: 0.7722\n",
      "Epoch 9/30\n",
      "1719/1719 [==============================] - 10s 6ms/step - loss: 0.5387 - accuracy: 0.7801 - val_loss: 0.5288 - val_accuracy: 0.7868\n",
      "Epoch 10/30\n",
      "1719/1719 [==============================] - 10s 6ms/step - loss: 0.5170 - accuracy: 0.7856 - val_loss: 0.5101 - val_accuracy: 0.7898\n",
      "Epoch 11/30\n",
      "1719/1719 [==============================] - 10s 6ms/step - loss: 0.5049 - accuracy: 0.7884 - val_loss: 0.5126 - val_accuracy: 0.7862\n",
      "Epoch 12/30\n",
      "1719/1719 [==============================] - 10s 6ms/step - loss: 0.4937 - accuracy: 0.7899 - val_loss: 0.4962 - val_accuracy: 0.7864\n",
      "Epoch 13/30\n",
      "1719/1719 [==============================] - 10s 6ms/step - loss: 0.4791 - accuracy: 0.7964 - val_loss: 0.5016 - val_accuracy: 0.7904\n",
      "Epoch 14/30\n",
      "1719/1719 [==============================] - 10s 6ms/step - loss: 0.4747 - accuracy: 0.7974 - val_loss: 0.5070 - val_accuracy: 0.7904\n",
      "Epoch 15/30\n",
      "1719/1719 [==============================] - 10s 6ms/step - loss: 0.4650 - accuracy: 0.7985 - val_loss: 0.4740 - val_accuracy: 0.7976\n",
      "Epoch 16/30\n",
      "1719/1719 [==============================] - 10s 6ms/step - loss: 0.4575 - accuracy: 0.8035 - val_loss: 0.4886 - val_accuracy: 0.7892\n",
      "Epoch 17/30\n",
      "1719/1719 [==============================] - 10s 6ms/step - loss: 0.4524 - accuracy: 0.8026 - val_loss: 0.4833 - val_accuracy: 0.7980\n",
      "Epoch 18/30\n",
      "1719/1719 [==============================] - 10s 6ms/step - loss: 0.4479 - accuracy: 0.8065 - val_loss: 0.4913 - val_accuracy: 0.7960\n",
      "Epoch 19/30\n",
      "1719/1719 [==============================] - 9s 5ms/step - loss: 0.4407 - accuracy: 0.8082 - val_loss: 0.4738 - val_accuracy: 0.8016\n",
      "Epoch 20/30\n",
      "1719/1719 [==============================] - 10s 6ms/step - loss: 0.4345 - accuracy: 0.8109 - val_loss: 0.4945 - val_accuracy: 0.7904\n",
      "Epoch 21/30\n",
      "1719/1719 [==============================] - 10s 6ms/step - loss: 0.4314 - accuracy: 0.8114 - val_loss: 0.4779 - val_accuracy: 0.7974\n",
      "Epoch 22/30\n",
      "1719/1719 [==============================] - 10s 6ms/step - loss: 0.4221 - accuracy: 0.8153 - val_loss: 0.4926 - val_accuracy: 0.7912\n",
      "Epoch 23/30\n",
      "1719/1719 [==============================] - 10s 6ms/step - loss: 0.4192 - accuracy: 0.8174 - val_loss: 0.4747 - val_accuracy: 0.8048\n",
      "Epoch 24/30\n",
      "1719/1719 [==============================] - 10s 6ms/step - loss: 0.4121 - accuracy: 0.8265 - val_loss: 0.4776 - val_accuracy: 0.8218\n",
      "Epoch 25/30\n",
      "1719/1719 [==============================] - 10s 6ms/step - loss: 0.4033 - accuracy: 0.8564 - val_loss: 0.4460 - val_accuracy: 0.8798\n",
      "Epoch 26/30\n",
      "1719/1719 [==============================] - 10s 6ms/step - loss: 0.3691 - accuracy: 0.8967 - val_loss: 0.4237 - val_accuracy: 0.8794\n",
      "Epoch 27/30\n",
      "1719/1719 [==============================] - 10s 6ms/step - loss: 0.3449 - accuracy: 0.9033 - val_loss: 0.4013 - val_accuracy: 0.8888\n",
      "Epoch 28/30\n",
      "1719/1719 [==============================] - 10s 6ms/step - loss: 0.3281 - accuracy: 0.9068 - val_loss: 0.4028 - val_accuracy: 0.8834\n",
      "Epoch 29/30\n",
      "1719/1719 [==============================] - 10s 6ms/step - loss: 0.3178 - accuracy: 0.9092 - val_loss: 0.3731 - val_accuracy: 0.8914\n",
      "Epoch 30/30\n",
      "1719/1719 [==============================] - 10s 6ms/step - loss: 0.2946 - accuracy: 0.9105 - val_loss: 0.3733 - val_accuracy: 0.8872\n"
     ]
    },
    {
     "data": {
      "image/png": "[encoded data removed]",
      "text/plain": [
       "<Figure size 576x360 with 1 Axes>"
      ]
     },
     "metadata": {
      "needs_background": "light"
     },
     "output_type": "display_data"
    }
   ],
   "source": [
    "history = model.fit(X_train, y_train, batch_size=32, epochs=30,\n",
    "                    validation_data=(X_valid, y_valid))\n",
    "#plot learning curves\n",
    "pd.DataFrame(history.history).plot(figsize=(8, 5))\n",
    "plt.grid(True)\n",
    "plt.gca().set_ylim(0, 1)\n",
    "plt.show()"
   ]
  },
  {
   "cell_type": "markdown",
   "metadata": {},
   "source": [
    "by adding a Dense Layer with a dropout layer, we have eliminated the overfitting"
   ]
  },
  {
   "cell_type": "markdown",
   "metadata": {},
   "source": [
    "#### 5) Use Batch Normalisation"
   ]
  },
  {
   "cell_type": "code",
   "execution_count": 53,
   "metadata": {},
   "outputs": [
    {
     "name": "stdout",
     "output_type": "stream",
     "text": [
      "Epoch 1/30\n",
      "1719/1719 [==============================] - 13s 7ms/step - loss: 1.5286 - accuracy: 0.4571 - val_loss: 1.2245 - val_accuracy: 0.4740\n",
      "Epoch 2/30\n",
      "1719/1719 [==============================] - 12s 7ms/step - loss: 1.1642 - accuracy: 0.4762 - val_loss: 1.1134 - val_accuracy: 0.5012\n",
      "Epoch 3/30\n",
      "1719/1719 [==============================] - 10s 6ms/step - loss: 1.0542 - accuracy: 0.5352 - val_loss: 0.9989 - val_accuracy: 0.5502\n",
      "Epoch 4/30\n",
      "1719/1719 [==============================] - 10s 6ms/step - loss: 0.9929 - accuracy: 0.5492 - val_loss: 0.9621 - val_accuracy: 0.5506\n",
      "Epoch 5/30\n",
      "1719/1719 [==============================] - 10s 6ms/step - loss: 0.9712 - accuracy: 0.5503 - val_loss: 0.9450 - val_accuracy: 0.5458\n",
      "Epoch 6/30\n",
      "1719/1719 [==============================] - 12s 7ms/step - loss: 0.9836 - accuracy: 0.5461 - val_loss: 0.9343 - val_accuracy: 0.5574\n",
      "Epoch 7/30\n",
      "1719/1719 [==============================] - 12s 7ms/step - loss: 0.9890 - accuracy: 0.5530 - val_loss: 0.9527 - val_accuracy: 0.5572\n",
      "Epoch 8/30\n",
      "1719/1719 [==============================] - 12s 7ms/step - loss: 0.9679 - accuracy: 0.5540 - val_loss: 0.9583 - val_accuracy: 0.5572\n",
      "Epoch 9/30\n",
      "1719/1719 [==============================] - 12s 7ms/step - loss: 0.9488 - accuracy: 0.5558 - val_loss: 0.9196 - val_accuracy: 0.5678\n",
      "Epoch 10/30\n",
      "1719/1719 [==============================] - 13s 7ms/step - loss: 0.9337 - accuracy: 0.5550 - val_loss: 0.9032 - val_accuracy: 0.5592\n",
      "Epoch 11/30\n",
      "1719/1719 [==============================] - 12s 7ms/step - loss: 0.9343 - accuracy: 0.5539 - val_loss: 0.9213 - val_accuracy: 0.5554\n",
      "Epoch 12/30\n",
      "1719/1719 [==============================] - 12s 7ms/step - loss: 0.9275 - accuracy: 0.5794 - val_loss: 0.8593 - val_accuracy: 0.6352\n",
      "Epoch 13/30\n",
      "1719/1719 [==============================] - 12s 7ms/step - loss: 0.8415 - accuracy: 0.6379 - val_loss: 0.8086 - val_accuracy: 0.6496\n",
      "Epoch 14/30\n",
      "1719/1719 [==============================] - 13s 7ms/step - loss: 0.8318 - accuracy: 0.6411 - val_loss: 0.8009 - val_accuracy: 0.6450\n",
      "Epoch 15/30\n",
      "1719/1719 [==============================] - 13s 7ms/step - loss: 0.8094 - accuracy: 0.6439 - val_loss: 0.7866 - val_accuracy: 0.6498\n",
      "Epoch 16/30\n",
      "1719/1719 [==============================] - 12s 7ms/step - loss: 0.8027 - accuracy: 0.6455 - val_loss: 0.7818 - val_accuracy: 0.6546\n",
      "Epoch 17/30\n",
      "1719/1719 [==============================] - 12s 7ms/step - loss: 0.7955 - accuracy: 0.6518 - val_loss: 0.7955 - val_accuracy: 0.6484\n",
      "Epoch 18/30\n",
      "1719/1719 [==============================] - 11s 7ms/step - loss: 0.8084 - accuracy: 0.6527 - val_loss: 0.7723 - val_accuracy: 0.6644\n",
      "Epoch 19/30\n",
      "1719/1719 [==============================] - 12s 7ms/step - loss: 0.7926 - accuracy: 0.6551 - val_loss: 0.7544 - val_accuracy: 0.6594\n",
      "Epoch 20/30\n",
      "1719/1719 [==============================] - 12s 7ms/step - loss: 0.7921 - accuracy: 0.6503 - val_loss: 0.7695 - val_accuracy: 0.6640\n",
      "Epoch 21/30\n",
      "1719/1719 [==============================] - 12s 7ms/step - loss: 0.8038 - accuracy: 0.6495 - val_loss: 0.7752 - val_accuracy: 0.6592\n",
      "Epoch 22/30\n",
      "1719/1719 [==============================] - 13s 8ms/step - loss: 0.7947 - accuracy: 0.6493 - val_loss: 0.7676 - val_accuracy: 0.6552\n",
      "Epoch 23/30\n",
      "1719/1719 [==============================] - 13s 7ms/step - loss: 0.7937 - accuracy: 0.6479 - val_loss: 0.8007 - val_accuracy: 0.6562\n",
      "Epoch 24/30\n",
      "1719/1719 [==============================] - 13s 8ms/step - loss: 0.7925 - accuracy: 0.6573 - val_loss: 0.7703 - val_accuracy: 0.6732\n",
      "Epoch 25/30\n",
      "1719/1719 [==============================] - 13s 8ms/step - loss: 0.7986 - accuracy: 0.6626 - val_loss: 0.7457 - val_accuracy: 0.6716\n",
      "Epoch 26/30\n",
      "1719/1719 [==============================] - 13s 8ms/step - loss: 0.7853 - accuracy: 0.6635 - val_loss: 0.7516 - val_accuracy: 0.6748\n",
      "Epoch 27/30\n",
      "1719/1719 [==============================] - 13s 8ms/step - loss: 0.7907 - accuracy: 0.6610 - val_loss: 0.7690 - val_accuracy: 0.6714\n",
      "Epoch 28/30\n",
      "1719/1719 [==============================] - 13s 7ms/step - loss: 0.7861 - accuracy: 0.6655 - val_loss: 0.7702 - val_accuracy: 0.6694\n",
      "Epoch 29/30\n",
      "1719/1719 [==============================] - 13s 8ms/step - loss: 0.7788 - accuracy: 0.6631 - val_loss: 0.7640 - val_accuracy: 0.6610\n",
      "Epoch 30/30\n",
      "1719/1719 [==============================] - 13s 7ms/step - loss: 0.7919 - accuracy: 0.6594 - val_loss: 0.7682 - val_accuracy: 0.6648\n"
     ]
    },
    {
     "data": {
      "image/png": "[encoded data removed]",
      "text/plain": [
       "<Figure size 576x360 with 1 Axes>"
      ]
     },
     "metadata": {
      "needs_background": "light"
     },
     "output_type": "display_data"
    }
   ],
   "source": [
    "\n",
    "#Add a batchNormalization \n",
    "model = keras.models.Sequential([\n",
    "    keras.layers.BatchNormalization(),\n",
    "    keras.layers.Flatten(input_shape=[28, 28]),\n",
    "    keras.layers.Dense(300, activation=\"relu\"),\n",
    "    keras.layers.Dense(100, activation=\"relu\"),\n",
    "    keras.layers.Dropout(0.5),\n",
    "    keras.layers.Dense(10, activation=\"softmax\"),\n",
    "    keras.layers.Dense(10, activation=\"softmax\")])\n",
    "#compile the model with adam optimizer\n",
    "model.compile(loss=\"sparse_categorical_crossentropy\",\n",
    "              optimizer=\"adam\",\n",
    "              metrics=[\"accuracy\"])\n",
    "#fit the model\n",
    "history = model.fit(X_train, y_train, batch_size=32, epochs=30,\n",
    "                    validation_data=(X_valid, y_valid))\n",
    "#plot learning curves\n",
    "pd.DataFrame(history.history).plot(figsize=(8, 5))\n",
    "plt.grid(True)\n",
    "plt.gca().set_ylim(0, 1)\n",
    "plt.show()"
   ]
  },
  {
   "cell_type": "markdown",
   "metadata": {},
   "source": [
    "the training process of a neural network has been accelerated."
   ]
  },
  {
   "cell_type": "markdown",
   "metadata": {},
   "source": []
  }
 ],
 "metadata": {
  "kernelspec": {
   "display_name": "Python 3",
   "language": "python",
   "name": "python3"
  },
  "language_info": {
   "codemirror_mode": {
    "name": "ipython",
    "version": 3
   },
   "file_extension": ".py",
   "mimetype": "text/x-python",
   "name": "python",
   "nbconvert_exporter": "python",
   "pygments_lexer": "ipython3",
   "version": "3.8.8"
  },
  "nav_menu": {
   "height": "264px",
   "width": "369px"
  },
  "toc": {
   "navigate_menu": true,
   "number_sections": true,
   "sideBar": true,
   "threshold": 6,
   "toc_cell": false,
   "toc_section_display": "block",
   "toc_window_display": false
  }
 },
 "nbformat": 4,
 "nbformat_minor": 1
}
